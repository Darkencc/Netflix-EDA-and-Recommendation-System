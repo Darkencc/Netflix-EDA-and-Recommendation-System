{
 "cells": [
  {
   "cell_type": "markdown",
   "id": "fc810d56",
   "metadata": {},
   "source": [
    "<img src=https://i.blogs.es/acff86/captura-de-pantalla-2022-06-01-a-las-10.59.52/1366_2000.jpeg>"
   ]
  },
  {
   "cell_type": "markdown",
   "id": "02bc595f",
   "metadata": {},
   "source": [
    "## Netflix, Inc. es una empresa de entretenimiento y una plataforma de streaming estadounidense"
   ]
  },
  {
   "cell_type": "code",
   "execution_count": 2,
   "id": "b03ec316",
   "metadata": {},
   "outputs": [],
   "source": [
    "import numpy as np\n",
    "import pandas as pd\n",
    "import matplotlib.pyplot as plt\n",
    "import seaborn as sns\n",
    "import matplotlib.pyplot as plt\n",
    "import os"
   ]
  },
  {
   "cell_type": "code",
   "execution_count": 3,
   "id": "3558d982",
   "metadata": {},
   "outputs": [
    {
     "data": {
      "text/html": [
       "<div>\n",
       "<style scoped>\n",
       "    .dataframe tbody tr th:only-of-type {\n",
       "        vertical-align: middle;\n",
       "    }\n",
       "\n",
       "    .dataframe tbody tr th {\n",
       "        vertical-align: top;\n",
       "    }\n",
       "\n",
       "    .dataframe thead th {\n",
       "        text-align: right;\n",
       "    }\n",
       "</style>\n",
       "<table border=\"1\" class=\"dataframe\">\n",
       "  <thead>\n",
       "    <tr style=\"text-align: right;\">\n",
       "      <th></th>\n",
       "      <th>show_id</th>\n",
       "      <th>type</th>\n",
       "      <th>title</th>\n",
       "      <th>director</th>\n",
       "      <th>cast</th>\n",
       "      <th>country</th>\n",
       "      <th>date_added</th>\n",
       "      <th>release_year</th>\n",
       "      <th>rating</th>\n",
       "      <th>duration</th>\n",
       "      <th>listed_in</th>\n",
       "      <th>description</th>\n",
       "    </tr>\n",
       "  </thead>\n",
       "  <tbody>\n",
       "    <tr>\n",
       "      <th>0</th>\n",
       "      <td>s1</td>\n",
       "      <td>Movie</td>\n",
       "      <td>Dick Johnson Is Dead</td>\n",
       "      <td>Kirsten Johnson</td>\n",
       "      <td>NaN</td>\n",
       "      <td>United States</td>\n",
       "      <td>September 25, 2021</td>\n",
       "      <td>2020</td>\n",
       "      <td>PG-13</td>\n",
       "      <td>90 min</td>\n",
       "      <td>Documentaries</td>\n",
       "      <td>As her father nears the end of his life, filmm...</td>\n",
       "    </tr>\n",
       "    <tr>\n",
       "      <th>1</th>\n",
       "      <td>s2</td>\n",
       "      <td>TV Show</td>\n",
       "      <td>Blood &amp; Water</td>\n",
       "      <td>NaN</td>\n",
       "      <td>Ama Qamata, Khosi Ngema, Gail Mabalane, Thaban...</td>\n",
       "      <td>South Africa</td>\n",
       "      <td>September 24, 2021</td>\n",
       "      <td>2021</td>\n",
       "      <td>TV-MA</td>\n",
       "      <td>2 Seasons</td>\n",
       "      <td>International TV Shows, TV Dramas, TV Mysteries</td>\n",
       "      <td>After crossing paths at a party, a Cape Town t...</td>\n",
       "    </tr>\n",
       "    <tr>\n",
       "      <th>2</th>\n",
       "      <td>s3</td>\n",
       "      <td>TV Show</td>\n",
       "      <td>Ganglands</td>\n",
       "      <td>Julien Leclercq</td>\n",
       "      <td>Sami Bouajila, Tracy Gotoas, Samuel Jouy, Nabi...</td>\n",
       "      <td>NaN</td>\n",
       "      <td>September 24, 2021</td>\n",
       "      <td>2021</td>\n",
       "      <td>TV-MA</td>\n",
       "      <td>1 Season</td>\n",
       "      <td>Crime TV Shows, International TV Shows, TV Act...</td>\n",
       "      <td>To protect his family from a powerful drug lor...</td>\n",
       "    </tr>\n",
       "    <tr>\n",
       "      <th>3</th>\n",
       "      <td>s4</td>\n",
       "      <td>TV Show</td>\n",
       "      <td>Jailbirds New Orleans</td>\n",
       "      <td>NaN</td>\n",
       "      <td>NaN</td>\n",
       "      <td>NaN</td>\n",
       "      <td>September 24, 2021</td>\n",
       "      <td>2021</td>\n",
       "      <td>TV-MA</td>\n",
       "      <td>1 Season</td>\n",
       "      <td>Docuseries, Reality TV</td>\n",
       "      <td>Feuds, flirtations and toilet talk go down amo...</td>\n",
       "    </tr>\n",
       "    <tr>\n",
       "      <th>4</th>\n",
       "      <td>s5</td>\n",
       "      <td>TV Show</td>\n",
       "      <td>Kota Factory</td>\n",
       "      <td>NaN</td>\n",
       "      <td>Mayur More, Jitendra Kumar, Ranjan Raj, Alam K...</td>\n",
       "      <td>India</td>\n",
       "      <td>September 24, 2021</td>\n",
       "      <td>2021</td>\n",
       "      <td>TV-MA</td>\n",
       "      <td>2 Seasons</td>\n",
       "      <td>International TV Shows, Romantic TV Shows, TV ...</td>\n",
       "      <td>In a city of coaching centers known to train I...</td>\n",
       "    </tr>\n",
       "  </tbody>\n",
       "</table>\n",
       "</div>"
      ],
      "text/plain": [
       "  show_id     type                  title         director  \\\n",
       "0      s1    Movie   Dick Johnson Is Dead  Kirsten Johnson   \n",
       "1      s2  TV Show          Blood & Water              NaN   \n",
       "2      s3  TV Show              Ganglands  Julien Leclercq   \n",
       "3      s4  TV Show  Jailbirds New Orleans              NaN   \n",
       "4      s5  TV Show           Kota Factory              NaN   \n",
       "\n",
       "                                                cast        country  \\\n",
       "0                                                NaN  United States   \n",
       "1  Ama Qamata, Khosi Ngema, Gail Mabalane, Thaban...   South Africa   \n",
       "2  Sami Bouajila, Tracy Gotoas, Samuel Jouy, Nabi...            NaN   \n",
       "3                                                NaN            NaN   \n",
       "4  Mayur More, Jitendra Kumar, Ranjan Raj, Alam K...          India   \n",
       "\n",
       "           date_added  release_year rating   duration  \\\n",
       "0  September 25, 2021          2020  PG-13     90 min   \n",
       "1  September 24, 2021          2021  TV-MA  2 Seasons   \n",
       "2  September 24, 2021          2021  TV-MA   1 Season   \n",
       "3  September 24, 2021          2021  TV-MA   1 Season   \n",
       "4  September 24, 2021          2021  TV-MA  2 Seasons   \n",
       "\n",
       "                                           listed_in  \\\n",
       "0                                      Documentaries   \n",
       "1    International TV Shows, TV Dramas, TV Mysteries   \n",
       "2  Crime TV Shows, International TV Shows, TV Act...   \n",
       "3                             Docuseries, Reality TV   \n",
       "4  International TV Shows, Romantic TV Shows, TV ...   \n",
       "\n",
       "                                         description  \n",
       "0  As her father nears the end of his life, filmm...  \n",
       "1  After crossing paths at a party, a Cape Town t...  \n",
       "2  To protect his family from a powerful drug lor...  \n",
       "3  Feuds, flirtations and toilet talk go down amo...  \n",
       "4  In a city of coaching centers known to train I...  "
      ]
     },
     "execution_count": 3,
     "metadata": {},
     "output_type": "execute_result"
    }
   ],
   "source": [
    "netflix_data=pd.read_csv(\"netflix_titles.csv\")\n",
    "netflix_data.head()"
   ]
  },
  {
   "cell_type": "code",
   "execution_count": 4,
   "id": "c7668009",
   "metadata": {},
   "outputs": [
    {
     "name": "stdout",
     "output_type": "stream",
     "text": [
      "<class 'pandas.core.frame.DataFrame'>\n",
      "RangeIndex: 8807 entries, 0 to 8806\n",
      "Data columns (total 12 columns):\n",
      " #   Column        Non-Null Count  Dtype \n",
      "---  ------        --------------  ----- \n",
      " 0   show_id       8807 non-null   object\n",
      " 1   type          8807 non-null   object\n",
      " 2   title         8807 non-null   object\n",
      " 3   director      6173 non-null   object\n",
      " 4   cast          7982 non-null   object\n",
      " 5   country       7976 non-null   object\n",
      " 6   date_added    8797 non-null   object\n",
      " 7   release_year  8807 non-null   int64 \n",
      " 8   rating        8803 non-null   object\n",
      " 9   duration      8804 non-null   object\n",
      " 10  listed_in     8807 non-null   object\n",
      " 11  description   8807 non-null   object\n",
      "dtypes: int64(1), object(11)\n",
      "memory usage: 825.8+ KB\n"
     ]
    }
   ],
   "source": [
    "netflix_data.info()"
   ]
  },
  {
   "cell_type": "code",
   "execution_count": 19,
   "id": "b00aed31",
   "metadata": {},
   "outputs": [
    {
     "data": {
      "text/html": [
       "<div>\n",
       "<style scoped>\n",
       "    .dataframe tbody tr th:only-of-type {\n",
       "        vertical-align: middle;\n",
       "    }\n",
       "\n",
       "    .dataframe tbody tr th {\n",
       "        vertical-align: top;\n",
       "    }\n",
       "\n",
       "    .dataframe thead th {\n",
       "        text-align: right;\n",
       "    }\n",
       "</style>\n",
       "<table border=\"1\" class=\"dataframe\">\n",
       "  <thead>\n",
       "    <tr style=\"text-align: right;\">\n",
       "      <th></th>\n",
       "      <th>Column</th>\n",
       "      <th>Missing_value_count</th>\n",
       "      <th>Missing_Percentage (%)</th>\n",
       "    </tr>\n",
       "  </thead>\n",
       "  <tbody>\n",
       "    <tr>\n",
       "      <th>3</th>\n",
       "      <td>director</td>\n",
       "      <td>2634</td>\n",
       "      <td>29.91</td>\n",
       "    </tr>\n",
       "    <tr>\n",
       "      <th>5</th>\n",
       "      <td>country</td>\n",
       "      <td>831</td>\n",
       "      <td>9.44</td>\n",
       "    </tr>\n",
       "    <tr>\n",
       "      <th>4</th>\n",
       "      <td>cast</td>\n",
       "      <td>825</td>\n",
       "      <td>9.37</td>\n",
       "    </tr>\n",
       "    <tr>\n",
       "      <th>6</th>\n",
       "      <td>date_added</td>\n",
       "      <td>10</td>\n",
       "      <td>0.11</td>\n",
       "    </tr>\n",
       "    <tr>\n",
       "      <th>8</th>\n",
       "      <td>rating</td>\n",
       "      <td>4</td>\n",
       "      <td>0.05</td>\n",
       "    </tr>\n",
       "    <tr>\n",
       "      <th>9</th>\n",
       "      <td>duration</td>\n",
       "      <td>3</td>\n",
       "      <td>0.03</td>\n",
       "    </tr>\n",
       "    <tr>\n",
       "      <th>0</th>\n",
       "      <td>show_id</td>\n",
       "      <td>0</td>\n",
       "      <td>0.00</td>\n",
       "    </tr>\n",
       "    <tr>\n",
       "      <th>1</th>\n",
       "      <td>type</td>\n",
       "      <td>0</td>\n",
       "      <td>0.00</td>\n",
       "    </tr>\n",
       "    <tr>\n",
       "      <th>2</th>\n",
       "      <td>title</td>\n",
       "      <td>0</td>\n",
       "      <td>0.00</td>\n",
       "    </tr>\n",
       "    <tr>\n",
       "      <th>7</th>\n",
       "      <td>release_year</td>\n",
       "      <td>0</td>\n",
       "      <td>0.00</td>\n",
       "    </tr>\n",
       "    <tr>\n",
       "      <th>10</th>\n",
       "      <td>listed_in</td>\n",
       "      <td>0</td>\n",
       "      <td>0.00</td>\n",
       "    </tr>\n",
       "    <tr>\n",
       "      <th>11</th>\n",
       "      <td>description</td>\n",
       "      <td>0</td>\n",
       "      <td>0.00</td>\n",
       "    </tr>\n",
       "  </tbody>\n",
       "</table>\n",
       "</div>"
      ],
      "text/plain": [
       "          Column  Missing_value_count  Missing_Percentage (%)\n",
       "3       director                 2634                   29.91\n",
       "5        country                  831                    9.44\n",
       "4           cast                  825                    9.37\n",
       "6     date_added                   10                    0.11\n",
       "8         rating                    4                    0.05\n",
       "9       duration                    3                    0.03\n",
       "0        show_id                    0                    0.00\n",
       "1           type                    0                    0.00\n",
       "2          title                    0                    0.00\n",
       "7   release_year                    0                    0.00\n",
       "10     listed_in                    0                    0.00\n",
       "11   description                    0                    0.00"
      ]
     },
     "execution_count": 19,
     "metadata": {},
     "output_type": "execute_result"
    }
   ],
   "source": [
    "def missing(df):\n",
    "    # Calculate missing value and their percentage for each column\n",
    "    missing_value = df.isnull().sum()\n",
    "    missing_value = missing_value.reset_index().rename(\n",
    "                    columns={'index':'Column', 0:'Missing_value_count'})\n",
    "\n",
    "    missing_percent = df.isnull().sum() * 100 / df.shape[0]\n",
    "    missing_percent = missing_percent.reset_index().rename(\n",
    "                    columns={'index':'Column', 0:'Missing_Percentage (%)'}).round(2)\n",
    "\n",
    "    \n",
    "    # Sort the data frame\n",
    "    #df_missing = df_missing.sort_values('Missing_Percentage (%)', ascending=False)\n",
    "    Final = missing_value.merge(missing_percent, how = 'inner', left_on = 'Column', right_on = 'Column')\n",
    "    Final = Final.sort_values(by = 'Missing_Percentage (%)',ascending = False)\n",
    "    return Final\n",
    "\n",
    "missing(netflix_data)"
   ]
  },
  {
   "cell_type": "markdown",
   "id": "3bfec167",
   "metadata": {},
   "source": [
    "Podemos observar que las columnas que tienen más datos faltantes son: director, country y cast"
   ]
  },
  {
   "cell_type": "code",
   "execution_count": 26,
   "id": "a991b81a",
   "metadata": {},
   "outputs": [],
   "source": [
    "netflix_data['rating'] = netflix_data['rating'].replace({'TV-Y7-FV': 'TV-Y7'})"
   ]
  },
  {
   "cell_type": "code",
   "execution_count": 27,
   "id": "8b67aa56",
   "metadata": {},
   "outputs": [
    {
     "data": {
      "text/plain": [
       "array(['PG-13', 'TV-MA', 'PG', 'TV-14', 'TV-PG', 'TV-Y', 'TV-Y7', 'R',\n",
       "       'TV-G', 'G', 'NC-17', '74 min', '84 min', '66 min', 'NR', nan,\n",
       "       'UR'], dtype=object)"
      ]
     },
     "execution_count": 27,
     "metadata": {},
     "output_type": "execute_result"
    }
   ],
   "source": [
    "netflix_data['rating'].unique()"
   ]
  },
  {
   "cell_type": "code",
   "execution_count": 28,
   "id": "b3a2483f",
   "metadata": {},
   "outputs": [],
   "source": [
    "netflix_data['rating'] = netflix_data['rating'].replace({\n",
    "                'PG-13': 'Teens - Age above 12',\n",
    "                'TV-MA': 'Adults',\n",
    "                'PG': 'Kids - with parental guidence',\n",
    "                'TV-14': 'Teens - Age above 14',\n",
    "                'TV-PG': 'Kids - with parental guidence',\n",
    "                'TV-Y': 'Kids',\n",
    "                'TV-Y7': 'Kids - Age above 7',\n",
    "                'R': 'Adults',\n",
    "                'TV-G': 'Kids',\n",
    "                 'G': 'Kids',\n",
    "                'NC-17': 'Adults',\n",
    "                'NR': 'NR',\n",
    "                'UR' : 'UR'\n",
    "                \n",
    "})"
   ]
  },
  {
   "cell_type": "code",
   "execution_count": 29,
   "id": "844f4041",
   "metadata": {},
   "outputs": [
    {
     "data": {
      "text/plain": [
       "array(['Teens - Age above 12', 'Adults', 'Kids - with parental guidence',\n",
       "       'Teens - Age above 14', 'Kids', 'Kids - Age above 7', '74 min',\n",
       "       '84 min', '66 min', 'NR', nan, 'UR'], dtype=object)"
      ]
     },
     "execution_count": 29,
     "metadata": {},
     "output_type": "execute_result"
    }
   ],
   "source": [
    "netflix_data['rating'].unique()"
   ]
  },
  {
   "cell_type": "code",
   "execution_count": 30,
   "id": "c36908a0",
   "metadata": {},
   "outputs": [],
   "source": [
    "# Reemplazando los datos faltantes\n",
    "netflix_data['country'] = netflix_data['country'].fillna(netflix_data['country'].mode()[0])\n",
    "\n",
    "netflix_data['cast'].replace(np.nan, 'No Data',inplace  = True)\n",
    "netflix_data['director'].replace(np.nan, 'No Data',inplace  = True)\n",
    "netflix_data.dropna(inplace=True)\n",
    "\n",
    "#Eliminamos los duplicados\n",
    "netflix_data.drop_duplicates(inplace= True)"
   ]
  },
  {
   "cell_type": "code",
   "execution_count": 6,
   "id": "6ecd1c18",
   "metadata": {},
   "outputs": [
    {
     "data": {
      "text/plain": [
       "array(['Movie', 'TV Show'], dtype=object)"
      ]
     },
     "execution_count": 6,
     "metadata": {},
     "output_type": "execute_result"
    }
   ],
   "source": [
    "netflix_data['type'].unique()"
   ]
  },
  {
   "cell_type": "code",
   "execution_count": 7,
   "id": "401aeff7",
   "metadata": {},
   "outputs": [],
   "source": [
    "netflix_shows=netflix_data[netflix_data['type']=='TV Show']\n",
    "netflix_movies=netflix_data[netflix_data['type']=='Movie']"
   ]
  },
  {
   "cell_type": "markdown",
   "id": "037704fc",
   "metadata": {},
   "source": [
    "## EDA"
   ]
  },
  {
   "cell_type": "code",
   "execution_count": 8,
   "id": "f0bf02b4",
   "metadata": {},
   "outputs": [
    {
     "data": {
      "image/png": "[encoded data removed]",
      "text/plain": [
       "<Figure size 576x288 with 1 Axes>"
      ]
     },
     "metadata": {
      "needs_background": "light"
     },
     "output_type": "display_data"
    }
   ],
   "source": [
    "plt.figure(figsize=(8,4), tight_layout=True)\n",
    "sns.set_style(\"darkgrid\")\n",
    "ax = sns.countplot(x=\"type\", data=netflix_data, palette=\"mako\")\n",
    "ax.set(title='BARPLOT', xlabel='TIPO', ylabel='CANTIDAD')\n",
    "plt.show()"
   ]
  },
  {
   "cell_type": "code",
   "execution_count": 9,
   "id": "48e2e474",
   "metadata": {},
   "outputs": [
    {
     "data": {
      "image/png": "[encoded data removed]",
      "text/plain": [
       "<Figure size 1440x864 with 1 Axes>"
      ]
     },
     "metadata": {},
     "output_type": "display_data"
    }
   ],
   "source": [
    "plt.figure(figsize=(20,12))\n",
    "sns.set(style=\"whitegrid\")\n",
    "ax = sns.countplot(x=\"rating\", data=netflix_data, palette=\"colorblind\", order=netflix_data['rating'].value_counts().index[0:15])\n",
    "ax.set(xlabel='CLASIFICACIÓN', ylabel='CANTIDAD')\n",
    "plt.show()"
   ]
  },
  {
   "cell_type": "markdown",
   "id": "a1e547bd",
   "metadata": {},
   "source": [
    "#### Podemos observar que el contenido para TV-MA(Audiencias Maduras) tiene los números de calificación más altos. El siguiente contendio que tiene números significativamene altos es de TV-14(Material que los padres o tutores adultos pueden encontrar inadecuado para niños menores de 14 años)."
   ]
  },
  {
   "cell_type": "code",
   "execution_count": 10,
   "id": "47a0cd1c",
   "metadata": {},
   "outputs": [
    {
     "data": {
      "image/png": "[encoded data removed]",
      "text/plain": [
       "<Figure size 1440x864 with 1 Axes>"
      ]
     },
     "metadata": {},
     "output_type": "display_data"
    }
   ],
   "source": [
    "plt.figure(figsize=(20,12))\n",
    "sns.set(style=\"darkgrid\")\n",
    "ax = sns.countplot(y=\"release_year\", data=netflix_data, palette=\"colorblind\", order=netflix_data['release_year'].value_counts().index[0:15])\n",
    "ax.set(xlabel='CANTIDAD', ylabel='AÑO DE LANZAMIENTO')\n",
    "plt.show()"
   ]
  },
  {
   "cell_type": "markdown",
   "id": "26be19bb",
   "metadata": {},
   "source": [
    "#### Podemos observar en el gráfico que los años 2018, 2017 y 2019 son los años en los que se dieron el mayor número de lanzamientos, siendo el 2018 el que se produjo más. Además podemos observar, en el año 2021 se produjeron cantidades menores de lanzamientos debido al COVID-19."
   ]
  },
  {
   "cell_type": "code",
   "execution_count": 13,
   "id": "e925f8f0",
   "metadata": {},
   "outputs": [
    {
     "data": {
      "text/html": [
       "<div>\n",
       "<style scoped>\n",
       "    .dataframe tbody tr th:only-of-type {\n",
       "        vertical-align: middle;\n",
       "    }\n",
       "\n",
       "    .dataframe tbody tr th {\n",
       "        vertical-align: top;\n",
       "    }\n",
       "\n",
       "    .dataframe thead th {\n",
       "        text-align: right;\n",
       "    }\n",
       "</style>\n",
       "<table border=\"1\" class=\"dataframe\">\n",
       "  <thead>\n",
       "    <tr style=\"text-align: right;\">\n",
       "      <th></th>\n",
       "      <th>country</th>\n",
       "    </tr>\n",
       "  </thead>\n",
       "  <tbody>\n",
       "    <tr>\n",
       "      <th>United States</th>\n",
       "      <td>2818</td>\n",
       "    </tr>\n",
       "    <tr>\n",
       "      <th>India</th>\n",
       "      <td>972</td>\n",
       "    </tr>\n",
       "    <tr>\n",
       "      <th>United Kingdom</th>\n",
       "      <td>419</td>\n",
       "    </tr>\n",
       "    <tr>\n",
       "      <th>Japan</th>\n",
       "      <td>245</td>\n",
       "    </tr>\n",
       "    <tr>\n",
       "      <th>South Korea</th>\n",
       "      <td>199</td>\n",
       "    </tr>\n",
       "    <tr>\n",
       "      <th>Canada</th>\n",
       "      <td>181</td>\n",
       "    </tr>\n",
       "    <tr>\n",
       "      <th>Spain</th>\n",
       "      <td>145</td>\n",
       "    </tr>\n",
       "    <tr>\n",
       "      <th>France</th>\n",
       "      <td>124</td>\n",
       "    </tr>\n",
       "    <tr>\n",
       "      <th>Mexico</th>\n",
       "      <td>110</td>\n",
       "    </tr>\n",
       "    <tr>\n",
       "      <th>Egypt</th>\n",
       "      <td>106</td>\n",
       "    </tr>\n",
       "    <tr>\n",
       "      <th>Turkey</th>\n",
       "      <td>105</td>\n",
       "    </tr>\n",
       "    <tr>\n",
       "      <th>Nigeria</th>\n",
       "      <td>95</td>\n",
       "    </tr>\n",
       "    <tr>\n",
       "      <th>Australia</th>\n",
       "      <td>87</td>\n",
       "    </tr>\n",
       "    <tr>\n",
       "      <th>Taiwan</th>\n",
       "      <td>81</td>\n",
       "    </tr>\n",
       "    <tr>\n",
       "      <th>Indonesia</th>\n",
       "      <td>79</td>\n",
       "    </tr>\n",
       "  </tbody>\n",
       "</table>\n",
       "</div>"
      ],
      "text/plain": [
       "                country\n",
       "United States      2818\n",
       "India               972\n",
       "United Kingdom      419\n",
       "Japan               245\n",
       "South Korea         199\n",
       "Canada              181\n",
       "Spain               145\n",
       "France              124\n",
       "Mexico              110\n",
       "Egypt               106\n",
       "Turkey              105\n",
       "Nigeria              95\n",
       "Australia            87\n",
       "Taiwan               81\n",
       "Indonesia            79"
      ]
     },
     "execution_count": 13,
     "metadata": {},
     "output_type": "execute_result"
    }
   ],
   "source": [
    "country_count=netflix_data['country'].value_counts().sort_values(ascending=False)\n",
    "country_count=pd.DataFrame(country_count)\n",
    "topcountries=country_count[0:15]\n",
    "topcountries"
   ]
  },
  {
   "cell_type": "code",
   "execution_count": null,
   "id": "40bd8e29",
   "metadata": {},
   "outputs": [],
   "source": []
  },
  {
   "cell_type": "markdown",
   "id": "4e48ed50",
   "metadata": {},
   "source": [
    "## SISTEMA DE RECOMENDACIÓN"
   ]
  },
  {
   "cell_type": "code",
   "execution_count": 11,
   "id": "11edb529",
   "metadata": {},
   "outputs": [],
   "source": [
    "new_netflix_data = netflix_data.fillna('')  # Transformamos los nulos a Strigs vacios"
   ]
  },
  {
   "cell_type": "code",
   "execution_count": 12,
   "id": "2f5035bd",
   "metadata": {},
   "outputs": [],
   "source": [
    "def data_cleaning(x):\n",
    "    return str.lower(x.replace(\" \", \"\"))\n",
    "    # Limpiamos la data y convertimos todas las palabras en minúscula "
   ]
  },
  {
   "cell_type": "code",
   "execution_count": 13,
   "id": "f8b334b6",
   "metadata": {},
   "outputs": [],
   "source": [
    "features = ['title', 'director', 'cast', 'listed_in', 'description']\n",
    "   # Seleccionamos las características por el que vamos a filtrar\n",
    "new_netflix_data = new_netflix_data[features]"
   ]
  },
  {
   "cell_type": "code",
   "execution_count": 14,
   "id": "6dfdc0a6",
   "metadata": {},
   "outputs": [
    {
     "data": {
      "text/html": [
       "<div>\n",
       "<style scoped>\n",
       "    .dataframe tbody tr th:only-of-type {\n",
       "        vertical-align: middle;\n",
       "    }\n",
       "\n",
       "    .dataframe tbody tr th {\n",
       "        vertical-align: top;\n",
       "    }\n",
       "\n",
       "    .dataframe thead th {\n",
       "        text-align: right;\n",
       "    }\n",
       "</style>\n",
       "<table border=\"1\" class=\"dataframe\">\n",
       "  <thead>\n",
       "    <tr style=\"text-align: right;\">\n",
       "      <th></th>\n",
       "      <th>title</th>\n",
       "      <th>director</th>\n",
       "      <th>cast</th>\n",
       "      <th>listed_in</th>\n",
       "      <th>description</th>\n",
       "    </tr>\n",
       "  </thead>\n",
       "  <tbody>\n",
       "    <tr>\n",
       "      <th>0</th>\n",
       "      <td>dickjohnsonisdead</td>\n",
       "      <td>kirstenjohnson</td>\n",
       "      <td></td>\n",
       "      <td>documentaries</td>\n",
       "      <td>asherfathernearstheendofhislife,filmmakerkirst...</td>\n",
       "    </tr>\n",
       "    <tr>\n",
       "      <th>1</th>\n",
       "      <td>blood&amp;water</td>\n",
       "      <td></td>\n",
       "      <td>amaqamata,khosingema,gailmabalane,thabangmolab...</td>\n",
       "      <td>internationaltvshows,tvdramas,tvmysteries</td>\n",
       "      <td>aftercrossingpathsataparty,acapetownteensetsou...</td>\n",
       "    </tr>\n",
       "    <tr>\n",
       "      <th>2</th>\n",
       "      <td>ganglands</td>\n",
       "      <td>julienleclercq</td>\n",
       "      <td>samibouajila,tracygotoas,samueljouy,nabihaakka...</td>\n",
       "      <td>crimetvshows,internationaltvshows,tvaction&amp;adv...</td>\n",
       "      <td>toprotecthisfamilyfromapowerfuldruglord,skille...</td>\n",
       "    </tr>\n",
       "  </tbody>\n",
       "</table>\n",
       "</div>"
      ],
      "text/plain": [
       "               title        director  \\\n",
       "0  dickjohnsonisdead  kirstenjohnson   \n",
       "1        blood&water                   \n",
       "2          ganglands  julienleclercq   \n",
       "\n",
       "                                                cast  \\\n",
       "0                                                      \n",
       "1  amaqamata,khosingema,gailmabalane,thabangmolab...   \n",
       "2  samibouajila,tracygotoas,samueljouy,nabihaakka...   \n",
       "\n",
       "                                           listed_in  \\\n",
       "0                                      documentaries   \n",
       "1          internationaltvshows,tvdramas,tvmysteries   \n",
       "2  crimetvshows,internationaltvshows,tvaction&adv...   \n",
       "\n",
       "                                         description  \n",
       "0  asherfathernearstheendofhislife,filmmakerkirst...  \n",
       "1  aftercrossingpathsataparty,acapetownteensetsou...  \n",
       "2  toprotecthisfamilyfromapowerfuldruglord,skille...  "
      ]
     },
     "execution_count": 14,
     "metadata": {},
     "output_type": "execute_result"
    }
   ],
   "source": [
    "for feature in features:\n",
    "    new_netflix_data[feature] = new_netflix_data[feature].apply(data_cleaning)\n",
    "\n",
    "new_netflix_data.head(3)"
   ]
  },
  {
   "cell_type": "code",
   "execution_count": 15,
   "id": "988ee56e",
   "metadata": {},
   "outputs": [],
   "source": [
    "def content_include(x):\n",
    "    return x['title']+ ' ' + x['director'] + ' ' + x['cast'] + ' ' +x['listed_in']+' '+ x['description']"
   ]
  },
  {
   "cell_type": "code",
   "execution_count": 16,
   "id": "108a090d",
   "metadata": {},
   "outputs": [],
   "source": [
    "new_netflix_data['joined_columns'] = new_netflix_data.apply(content_include, axis = 1)\n",
    "    # Se crea una nueva columna, concatenando las demás columnas"
   ]
  },
  {
   "cell_type": "markdown",
   "id": "6865358d",
   "metadata": {},
   "source": [
    "#### Se va utilizar CountVectorizer"
   ]
  },
  {
   "cell_type": "code",
   "execution_count": 25,
   "id": "f51903e9",
   "metadata": {},
   "outputs": [
    {
     "data": {
      "text/plain": [
       "(8807, 76189)"
      ]
     },
     "execution_count": 25,
     "metadata": {},
     "output_type": "execute_result"
    }
   ],
   "source": [
    "from sklearn.feature_extraction.text import CountVectorizer #Para ver la frecuencia de cada palabra\n",
    "from sklearn.metrics.pairwise import cosine_similarity\n",
    "\n",
    "countvec = CountVectorizer(stop_words='english') # Para quitar palabras irrelevantes\n",
    "countvec_matrix = countvec.fit_transform(new_netflix_data['joined_columns'])\n",
    "    #Genera una matriz con la frecuencia de cada palabra que exista en la columna de 'joined_columns'\n",
    "    #Fit: Parámetro óptimos\n",
    "countvec_matrix.shape"
   ]
  },
  {
   "cell_type": "code",
   "execution_count": null,
   "id": "a2e935db",
   "metadata": {},
   "outputs": [],
   "source": [
    "cosine_sim = cosine_similarity(countvec_matrix, countvec_matrix)\n",
    "\n",
    "new_netflix_data=new_netflix_data.reset_index()\n",
    "indices = pd.Series(new_netflix_data.index, index=new_netflix_data['title'])"
   ]
  },
  {
   "cell_type": "code",
   "execution_count": 20,
   "id": "68894f8e",
   "metadata": {},
   "outputs": [],
   "source": [
    "def get_recommendations_new(title, cosine_sim=cosine_sim):\n",
    "    title=title.replace(' ','').lower()\n",
    "    idx = indices[title]\n",
    "\n",
    "    sim_scores = list(enumerate(cosine_sim[idx]))\n",
    "        # Obtiene los puntajes de similitud de pares de todas las películas con esa película\n",
    "\n",
    "    sim_scores = sorted(sim_scores, key=lambda x: x[1], reverse=True)\n",
    "        # Se ordena las peliculas según las puntuaciones de similitud\n",
    "    \n",
    "    sim_scores = sim_scores[1:11]\n",
    "        # Se obtiene los puntajes de las 10 películas más similares\n",
    "    movie_indices = [i[0] for i in sim_scores]\n",
    "    return netflix_data['title'].iloc[movie_indices]"
   ]
  },
  {
   "cell_type": "code",
   "execution_count": 21,
   "id": "19df4c28",
   "metadata": {},
   "outputs": [
    {
     "data": {
      "text/plain": [
       "260                 The Defeated\n",
       "3604                    Sintonia\n",
       "2053             Young Wallander\n",
       "3744                     Unit 42\n",
       "5404           The Truth Seekers\n",
       "6323                 Black Heart\n",
       "3789              Killer Ratings\n",
       "4476       Terrorism Close Calls\n",
       "4673    Inside the Criminal Mind\n",
       "3855                  The Writer\n",
       "Name: title, dtype: object"
      ]
     },
     "execution_count": 21,
     "metadata": {},
     "output_type": "execute_result"
    }
   ],
   "source": [
    "get_recommendations_new('Dark', cosine_sim)"
   ]
  },
  {
   "cell_type": "code",
   "execution_count": 22,
   "id": "c8b1aea6",
   "metadata": {},
   "outputs": [
    {
     "data": {
      "text/plain": [
       "678     The Assassination of Gianni Versace\n",
       "1980                          The Blacklist\n",
       "1477                                Dare Me\n",
       "5940                           Breaking Bad\n",
       "3762                    Designated Survivor\n",
       "8397           The Lizzie Borden Chronicles\n",
       "4079                               Unsolved\n",
       "3684                              Kakegurui\n",
       "3604                               Sintonia\n",
       "6841                             Get Shorty\n",
       "Name: title, dtype: object"
      ]
     },
     "execution_count": 22,
     "metadata": {},
     "output_type": "execute_result"
    }
   ],
   "source": [
    "get_recommendations_new('Ozark', cosine_sim)"
   ]
  },
  {
   "cell_type": "code",
   "execution_count": 23,
   "id": "44c829c2",
   "metadata": {},
   "outputs": [
    {
     "data": {
      "text/plain": [
       "2190                           The Umbrella Academy\n",
       "513                                          Colony\n",
       "660                                 Black Lightning\n",
       "3106                                  Lost in Space\n",
       "3005    DreamWorks How to Train Your Dragon Legends\n",
       "2227                                         Cursed\n",
       "3526                                     The I-Land\n",
       "5069                        The Shannara Chronicles\n",
       "763                                     Sweet Tooth\n",
       "993                                 Shadow and Bone\n",
       "Name: title, dtype: object"
      ]
     },
     "execution_count": 23,
     "metadata": {},
     "output_type": "execute_result"
    }
   ],
   "source": [
    "get_recommendations_new('The 100', cosine_sim)"
   ]
  }
 ],
 "metadata": {
  "kernelspec": {
   "display_name": "Python 3.9.7 ('base')",
   "language": "python",
   "name": "python3"
  },
  "language_info": {
   "codemirror_mode": {
    "name": "ipython",
    "version": 3
   },
   "file_extension": ".py",
   "mimetype": "text/x-python",
   "name": "python",
   "nbconvert_exporter": "python",
   "pygments_lexer": "ipython3",
   "version": "3.9.7"
  },
  "vscode": {
   "interpreter": {
    "hash": "afdd5ba72fc3315a25542174f0f50ae897596566d84209ad5603a718a19cb345"
   }
  }
 },
 "nbformat": 4,
 "nbformat_minor": 5
}
